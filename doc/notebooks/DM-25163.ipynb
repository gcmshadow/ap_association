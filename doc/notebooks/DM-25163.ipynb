{
 "cells": [
  {
   "cell_type": "code",
   "execution_count": 1,
   "metadata": {},
   "outputs": [
    {
     "name": "stdout",
     "output_type": "stream",
     "text": [
      "Populating the interactive namespace from numpy and matplotlib\n"
     ]
    }
   ],
   "source": [
    "%pylab inline"
   ]
  },
  {
   "cell_type": "code",
   "execution_count": 214,
   "metadata": {},
   "outputs": [],
   "source": [
    "import lsst.afw.geom\n",
    "from lsst.daf.persistence import Butler\n",
    "from astropy import wcs, units\n",
    "from astropy.nddata import CCDData, VarianceUncertainty\n",
    "import lsst.geom as geom\n",
    "_scale = (1.0 * lsst.geom.arcseconds).asDegrees()"
   ]
  },
  {
   "cell_type": "markdown",
   "metadata": {},
   "source": [
    "Load HiTS2015 CI data from a ap_verify run."
   ]
  },
  {
   "cell_type": "code",
   "execution_count": 220,
   "metadata": {},
   "outputs": [],
   "source": [
    "b = Butler(\"/project/morriscb/src/ap_verify_ci_hits2015/testData/output\")"
   ]
  },
  {
   "cell_type": "code",
   "execution_count": 221,
   "metadata": {},
   "outputs": [],
   "source": [
    "diffIm = b.get(\"deepDiff_differenceExp\", visit=419802, ccdnum=10)\n",
    "diaSrc = b.get(\"deepDiff_diaSrc\", visit=419802, ccdnum=10)"
   ]
  },
  {
   "cell_type": "code",
   "execution_count": 222,
   "metadata": {},
   "outputs": [
    {
     "data": {
      "text/plain": [
       "FITS standard SkyWcs:\n",
       "Sky Origin: (155.121223, -5.952442)\n",
       "Pixel Origin: (1160.98, 2062.61)\n",
       "Pixel Scale: 0.26314 arcsec/pixel"
      ]
     },
     "execution_count": 222,
     "metadata": {},
     "output_type": "execute_result"
    }
   ],
   "source": [
    "diffIm.getWcs()"
   ]
  },
  {
   "cell_type": "markdown",
   "metadata": {},
   "source": [
    "Get a cutout from the difference image."
   ]
  },
  {
   "cell_type": "code",
   "execution_count": 28,
   "metadata": {},
   "outputs": [],
   "source": [
    "cutout = diffIm.getCutout(diaSrc[0].getCoord(), geom.Extent2I(30, 30))"
   ]
  },
  {
   "cell_type": "markdown",
   "metadata": {},
   "source": [
    "Create an empty astropy WCS."
   ]
  },
  {
   "cell_type": "code",
   "execution_count": 223,
   "metadata": {},
   "outputs": [],
   "source": [
    "cutoutWcs = wcs.WCS(naxis=2)"
   ]
  },
  {
   "cell_type": "markdown",
   "metadata": {},
   "source": [
    "Using the local CDMatrix, create a astropy WCS centered at Ra=180 and Dec=0 on the sphere and at the centroid of the object on the CCD. "
   ]
  },
  {
   "cell_type": "code",
   "execution_count": 227,
   "metadata": {},
   "outputs": [],
   "source": [
    "cutoutWcs.wcs.crpix = [diaSrc[0].getCentroid()[0], diaSrc[0].getCentroid()[1]]\n",
    "cutoutWcs.wcs.crval = [180, 0]\n",
    "cutoutWcs.wcs.ctype = [\"RA---TAN\", \"DEC--TAN\"]\n",
    "cdMatrix = np.degrees(np.array([[diaSrc[0][\"base_LocalWcs_CDMatrix_1_1\"], diaSrc[0][\"base_LocalWcs_CDMatrix_1_2\"]],\n",
    "                                [diaSrc[0][\"base_LocalWcs_CDMatrix_2_1\"], diaSrc[0][\"base_LocalWcs_CDMatrix_2_2\"]]]))\n",
    "cutoutWcs.wcs.cd = cdMatrix"
   ]
  },
  {
   "cell_type": "markdown",
   "metadata": {},
   "source": [
    "Create a test point 1 pixel away in x and y and compare to."
   ]
  },
  {
   "cell_type": "code",
   "execution_count": 234,
   "metadata": {},
   "outputs": [
    {
     "name": "stdout",
     "output_type": "stream",
     "text": [
      "stack LocalWcs [-7.30649567e-05  7.30157686e-05]\n"
     ]
    }
   ],
   "source": [
    "pixCoord = np.array([[diaSrc[0].getCentroid()[0] - 1, diaSrc[0].getCentroid()[1] - 1]])\n",
    "diaSrc[0].getCentroid()[0], diaSrc[0].getCentroid()[1]\n",
    "deltaCoord = (pixCoord[0][0] - diaSrc[0].getCentroid()[0], pixCoord[0][1] - diaSrc[0].getCentroid()[1])\n",
    "print(\"stack LocalWcs:\", np.dot(cdMatrix, deltaCoord))"
   ]
  },
  {
   "cell_type": "code",
   "execution_count": 236,
   "metadata": {},
   "outputs": [
    {
     "name": "stdout",
     "output_type": "stream",
     "text": [
      "astropy Wcs: [-7.30649567231012e-05, 7.301576857726584e-05]\n"
     ]
    }
   ],
   "source": [
    "print(\"astropy Wcs:\",\n",
    "      [cutoutWcs.wcs_pix2world(pixCoord, 1)[0][0] - 180,\n",
    "       cutoutWcs.wcs_pix2world(pixCoord, 1)[0][1]])"
   ]
  },
  {
   "cell_type": "markdown",
   "metadata": {},
   "source": [
    "Looks good for a large number of digits. Units are in degrees.\n",
    "\n",
    "Create a new CCDData object in astropy by stripping out the data from teh cutout."
   ]
  },
  {
   "cell_type": "code",
   "execution_count": 243,
   "metadata": {},
   "outputs": [
    {
     "data": {
      "text/plain": [
       "{'NEXTEND': 70,\n",
       " 'PROCTYPE': 'RAW',\n",
       " 'PRODTYPE': 'image',\n",
       " 'PIXSCAL1': 0.27,\n",
       " 'PIXSCAL2': 0.27,\n",
       " 'FILENAME': 'DECam_00419802.fits',\n",
       " 'TELESCOP': 'CTIO 4.0-m telescope',\n",
       " 'OBSERVAT': 'CTIO',\n",
       " 'INSTRUME': 'DECam',\n",
       " 'EXPREQ': 102.0,\n",
       " 'OBSID': 'ct4m20150309t055516',\n",
       " 'TIME-OBS': '05:55:16.522985',\n",
       " 'OPENSHUT': '2015-03-09T05:55:16.570880',\n",
       " 'EXPNUM': 419802,\n",
       " 'OBJECT': 'Blind15A_40',\n",
       " 'OBSTYPE': 'object',\n",
       " 'CAMSHUT': 'Open',\n",
       " 'PROGRAM': 'HITS: HIgh cadence Transient Survey, real-time detection of stellar explosions&',\n",
       " 'OBSERVER': 'S. Points',\n",
       " 'PROPOSER': 'Forster',\n",
       " 'DTPI': 'Forster',\n",
       " 'PROPID': '2015A-0608',\n",
       " 'EXCLUDED': '',\n",
       " 'AOS': True,\n",
       " 'BCAM': False,\n",
       " 'GUIDER': 1,\n",
       " 'SKYSTAT': True,\n",
       " 'FILTPOS': 'cassette_2',\n",
       " 'INSTANCE': 'DECam_20150308',\n",
       " 'ERRORS': 'None',\n",
       " 'TELEQUIN': 2000.0,\n",
       " 'TELSTAT': 'Track',\n",
       " 'RA': '10:20:28.800',\n",
       " 'DEC': '-06:31:12.000',\n",
       " 'TELRA': '10:20:28.838',\n",
       " 'TELDEC': '-06:31:12.299',\n",
       " 'HA': '01:57:14.530',\n",
       " 'ZD': 36.15,\n",
       " 'AZ': 304.7488,\n",
       " 'DOMEAZ': 306.386,\n",
       " 'TELFOCUS': '1530.38,-1290.26,2023.67,61.22,-22.32,-0.00',\n",
       " 'VSUB': True,\n",
       " 'GSKYPHOT': False,\n",
       " 'LSKYPHOT': True,\n",
       " 'WINDSPD': 14.162,\n",
       " 'WINDDIR': 184.0,\n",
       " 'PRESSURE': 777.0,\n",
       " 'DIMMSEE': 'NaN',\n",
       " 'OUTTEMP': 17.2,\n",
       " 'AIRMASS': 1.24,\n",
       " 'GSKYVAR': 0.046,\n",
       " 'GSKYHOT': 0.121,\n",
       " 'LSKYVAR': 0.008,\n",
       " 'LSKYHOT': 0.0,\n",
       " 'LSKYPOW': 0.026,\n",
       " 'MSURTEMP': 15.85,\n",
       " 'MAIRTEMP': 16.3,\n",
       " 'UPTRTEMP': 17.872,\n",
       " 'LWTRTEMP': 'NaN',\n",
       " 'PMOSTEMP': 16.3,\n",
       " 'UTN-TEMP': 18.01,\n",
       " 'UTS-TEMP': 17.73,\n",
       " 'UTW-TEMP': 17.845,\n",
       " 'UTE-TEMP': 17.905,\n",
       " 'PMN-TEMP': 15.6,\n",
       " 'PMS-TEMP': 15.7,\n",
       " 'PMW-TEMP': 15.8,\n",
       " 'PME-TEMP': 16.3,\n",
       " 'DOMELOW': 17.905,\n",
       " 'DOMEHIGH': 17.55,\n",
       " 'DOMEFLOR': 13.4,\n",
       " 'G-MEANX': -0.0405,\n",
       " 'G-MEANY': 0.0563,\n",
       " 'DONUTFS4': '[1.30,1.03,-8.63,-0.32,-0.23,-0.12,-0.21,0.02,-0.41,]',\n",
       " 'DONUTFS3': '[]',\n",
       " 'DONUTFS2': '[1.26,1.29,-8.59,0.13,-0.19,-0.02,-0.18,0.38,-0.09,]',\n",
       " 'DONUTFS1': '[2.12,2.55,9.01,0.20,0.12,0.11,-0.16,0.36,0.13,]',\n",
       " 'G-FLXVAR': 86829235.59,\n",
       " 'G-MEANXY': -0.004138,\n",
       " 'DONUTFN1': '[0.61,-0.12,-8.67,-0.41,0.03,-0.02,0.01,0.30,-0.23,]',\n",
       " 'DONUTFN2': '[1.49,1.43,8.91,-0.37,-0.16,0.03,0.15,0.31,0.01,]',\n",
       " 'DONUTFN3': '[1.28,1.11,-8.50,-0.10,-0.09,-0.09,0.01,0.11,0.29,]',\n",
       " 'DONUTFN4': '[2.68,1.65,8.97,0.11,-0.18,-0.08,0.16,-0.02,0.22,]',\n",
       " 'TIME_RECORDED': '2015-03-09T05:57:20.139188',\n",
       " 'G-FEEDBK': '10, 5',\n",
       " 'G-CCDNUM': 4,\n",
       " 'DOXT': 0.1,\n",
       " 'G-MAXX': 0.1956,\n",
       " 'FADZ': -29.53,\n",
       " 'FADY': -262.39,\n",
       " 'FADX': 472.03,\n",
       " 'G-MODE': 'auto',\n",
       " 'FAYT': -12.58,\n",
       " 'DODZ': -29.53,\n",
       " 'DODY': -1.53,\n",
       " 'DODX': -1.28,\n",
       " 'MULTIEXP': False,\n",
       " 'SKYUPDAT': '2015-03-09T05:55:10',\n",
       " 'G-SEEING': 1.938,\n",
       " 'G-TRANSP': 0.814,\n",
       " 'G-MEANY2': 0.037768,\n",
       " 'DOYT': 0.11,\n",
       " 'G-LATENC': 1.178,\n",
       " 'LUTVER': 'v20150102',\n",
       " 'FAXT': 7.16,\n",
       " 'G-MAXY': 0.6026,\n",
       " 'G-MEANX2': 0.012467,\n",
       " 'SISPIVER': 'trunk',\n",
       " 'CONSTVER': 'DECAM:54',\n",
       " 'HDRVER': '13',\n",
       " 'DTSITE': 'ct',\n",
       " 'DTTELESC': 'ct4m',\n",
       " 'DTINSTRU': 'decam',\n",
       " 'DTCALDAT': '2015-03-08',\n",
       " 'ODATEOBS': '',\n",
       " 'DTUTC': '2015-03-09T05:57:48',\n",
       " 'DTOBSERV': 'NOAO',\n",
       " 'DTPROPID': '2015A-0608',\n",
       " 'DTPIAFFL': '',\n",
       " 'DTTITLE': '',\n",
       " 'DTCOPYRI': 'AURA',\n",
       " 'DTACQUIS': 'pipeline4.ctio.noao.edu',\n",
       " 'DTACCOUN': 'sispi',\n",
       " 'DTACQNAM': '/data_local/images/DTS/2015A-0608/DECam_00419802.fits.fz',\n",
       " 'DTNSANAM': 'c4d_150309_055748_ori.fits',\n",
       " 'DT_RTNAM': 'c4d_150309_055748_ori',\n",
       " 'DTQUEUE': 'decam',\n",
       " 'DTSTATUS': 'done',\n",
       " 'SB_HOST': 'pipeline4.ctio.noao.edu',\n",
       " 'SB_ACCOU': 'sispi',\n",
       " 'SB_SITE': 'ct',\n",
       " 'SB_LOCAL': 'dec',\n",
       " 'SB_DIR1': '20150308',\n",
       " 'SB_DIR2': 'ct4m',\n",
       " 'SB_DIR3': '2015A-0608',\n",
       " 'SB_RECNO': 283419,\n",
       " 'SB_ID': 'dec283419',\n",
       " 'SB_NAME': 'c4d_150309_055748_ori.fits',\n",
       " 'SB_RTNAM': 'c4d_150309_055748_ori',\n",
       " 'RMCOUNT': 0,\n",
       " 'RECNO': 283419,\n",
       " 'ZTENSION': 'IMAGE',\n",
       " 'ZPCOUNT': 0,\n",
       " 'ZGCOUNT': 1,\n",
       " 'BUNIT': 'adu',\n",
       " 'DETSIZE': '[1:29400,1:29050]',\n",
       " 'DETSEC': '[6145:8192,12289:16384]',\n",
       " 'CCDSEC': '[1:2048,1:4096]',\n",
       " 'DETSECA': '[7169:8192,12289:16384]',\n",
       " 'CCDSECA': '[1025:2048,1:4096]',\n",
       " 'AMPSECA': '[2048:1025,4096:1]',\n",
       " 'DETSECB': '[6145:7168,12289:16384]',\n",
       " 'CCDSECB': '[1:1024,1:4096]',\n",
       " 'AMPSECB': '[1:1024,4096:1]',\n",
       " 'DETECTOR': 'S3-101_107419-17-2',\n",
       " 'CCDNUM': 10,\n",
       " 'DETPOS': 'S22',\n",
       " 'EXTNAME': 'S22',\n",
       " 'GAINA': 3.881,\n",
       " 'RDNOISEA': 6.182433,\n",
       " 'SATURATA': 50992.0,\n",
       " 'GAINB': 4.036,\n",
       " 'RDNOISEB': 6.231584,\n",
       " 'SATURATB': 49049.0,\n",
       " 'FPA': 'DECAM_BKP3',\n",
       " 'CCDBIN1': 1,\n",
       " 'CCDBIN2': 1,\n",
       " 'DHEINF': 'MNSN fermi hardware',\n",
       " 'DHEFIRM': 'demo30',\n",
       " 'SLOT00': 'MCB 12 5.210000',\n",
       " 'SLOT01': 'DESCB 11 4.010000',\n",
       " 'SLOT02': 'DESCB 12 4.010000',\n",
       " 'SLOT03': 'CCD12 29 4.080000',\n",
       " 'SLOT04': 'CCD12 15 4.080000',\n",
       " 'SLOT05': 'CCD12 28 4.080000',\n",
       " 'VALIDA': True,\n",
       " 'VALIDB': True,\n",
       " 'NDONUTS': 0,\n",
       " 'CHECKVER': 'COMPLEMENT',\n",
       " 'ISR_OSCAN_LEVELA': 2327.51345415694,\n",
       " 'ISR_OSCAN_SIGMAA': 0.0,\n",
       " 'OVERSCAN': 'Overscan corrected',\n",
       " 'ISR_OSCAN_LEVELB': 1593.90465662297,\n",
       " 'ISR_OSCAN_SIGMAB': 0.0,\n",
       " 'SKYLEVEL': 1629.49499511719,\n",
       " 'SKYSIGMA': 20.4205947621182,\n",
       " 'FLATNESS_PP': 0.0123592565260892,\n",
       " 'FLATNESS_RMS': 0.00241727236318713,\n",
       " 'FLATNESS_NGRIDS': '8x16',\n",
       " 'FLATNESS_MESHX': 256,\n",
       " 'FLATNESS_MESHY': 256,\n",
       " 'BGMEAN': 1629.48174138031,\n",
       " 'BGVAR': 15.8385504157274,\n",
       " 'MAGZERO': 24.9328131101188,\n",
       " 'MAGZERO_RMS': 0.000337182490192535,\n",
       " 'MAGZERO_NOBJ': 146,\n",
       " 'COLORTERM1': 0.0,\n",
       " 'COLORTERM2': 0.0,\n",
       " 'COLORTERM3': 0.0,\n",
       " 'EXPINFO_V': 1,\n",
       " 'TTYPE1': 'COMPRESSED_DATA',\n",
       " 'TFORM1': '1PB(7494)',\n",
       " 'A_ORDER': 4,\n",
       " 'B_ORDER': 4,\n",
       " 'AP_ORDER': 5,\n",
       " 'BP_ORDER': 5}"
      ]
     },
     "execution_count": 243,
     "metadata": {},
     "output_type": "execute_result"
    }
   ],
   "source": [
    "cutout.getMetadata().toDict()"
   ]
  },
  {
   "cell_type": "code",
   "execution_count": 245,
   "metadata": {},
   "outputs": [],
   "source": [
    "ccdData = CCDData(data=cutout.image.array,\n",
    "                  uncertainty=VarianceUncertainty(array=cutout.variance.array),\n",
    "                  flags=cutout.mask.array,\n",
    "                  wcs=cutoutWcs,\n",
    "                  meta=cutout.getMetadata().toDict(),\n",
    "                  unit=\"adu\")"
   ]
  },
  {
   "cell_type": "code",
   "execution_count": 246,
   "metadata": {},
   "outputs": [
    {
     "data": {
      "text/plain": [
       "<matplotlib.image.AxesImage at 0x7f6572270990>"
      ]
     },
     "execution_count": 246,
     "metadata": {},
     "output_type": "execute_result"
    },
    {
     "data": {
      "image/png": "[encoded data removed]",
      "text/plain": [
       "<Figure size 432x288 with 1 Axes>"
      ]
     },
     "metadata": {
      "needs_background": "light"
     },
     "output_type": "display_data"
    }
   ],
   "source": [
    "imshow(ccdData)"
   ]
  },
  {
   "cell_type": "markdown",
   "metadata": {},
   "source": [
    "Questions above: Is that all we need for the ccdData cutout? Do we want to calibrate the image before creating the stamp? Does it make sense that the way I've created the WCS (i.e. projects onto the the equator at RA=180 with the center of the ccd image being at the true xy position)? With this structure, points the chip will be absolute while on the sky they will only be relative. I can easily also make the WCS center be xy=(0, 0) and all positions relative to the detected object center. I'm not sure what would be best to define the CPix. The WCS is and object center is not the center of one of the pixels pixtured. The draw back is that the image as it were has no info about what what the absolute position of a pixel is."
   ]
  },
  {
   "cell_type": "code",
   "execution_count": null,
   "metadata": {},
   "outputs": [],
   "source": []
  }
 ],
 "metadata": {
  "kernelspec": {
   "display_name": "Python 3",
   "language": "python",
   "name": "python3"
  },
  "language_info": {
   "codemirror_mode": {
    "name": "ipython",
    "version": 3
   },
   "file_extension": ".py",
   "mimetype": "text/x-python",
   "name": "python",
   "nbconvert_exporter": "python",
   "pygments_lexer": "ipython3",
   "version": "3.7.6"
  }
 },
 "nbformat": 4,
 "nbformat_minor": 4
}
