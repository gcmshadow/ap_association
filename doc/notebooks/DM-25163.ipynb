{
 "cells": [
  {
   "cell_type": "code",
   "execution_count": 397,
   "metadata": {},
   "outputs": [
    {
     "name": "stdout",
     "output_type": "stream",
     "text": [
      "Populating the interactive namespace from numpy and matplotlib\n"
     ]
    }
   ],
   "source": [
    "%pylab inline"
   ]
  },
  {
   "cell_type": "code",
   "execution_count": 405,
   "metadata": {},
   "outputs": [],
   "source": [
    "import lsst.afw.geom\n",
    "from lsst.daf.persistence import Butler\n",
    "from astropy import wcs\n",
    "import astropy.units as u\n",
    "from astropy.nddata import CCDData, VarianceUncertainty\n",
    "import lsst.geom as geom\n",
    "_scale = (1.0 * lsst.geom.arcseconds).asDegrees()"
   ]
  },
  {
   "cell_type": "code",
   "execution_count": 399,
   "metadata": {},
   "outputs": [],
   "source": [
    "def computeSkySeperation(ra1, dec1, ra2, dec2):\n",
    "    \"\"\"Compute the local pixel scale conversion.\n",
    "\n",
    "    Parameters\n",
    "    ----------\n",
    "    ra1 : `pandas.Series`\n",
    "        Ra of the first coordinate in radians.\n",
    "    dec1 : `pandas.Series`\n",
    "        Dec of the first coordinate in radians.\n",
    "    ra2 : `pandas.Series`\n",
    "        Ra of the second coordinate in radians.\n",
    "    dec2 : `pandas.Series`\n",
    "        Dec of the second coordinate in radians.\n",
    "\n",
    "    Returns\n",
    "    -------\n",
    "    dist : `pandas.Series`\n",
    "        Distance on the sphere in radians.\n",
    "    \"\"\"\n",
    "    deltaDec = dec2 - dec1\n",
    "    deltaRa = ra2 - ra1\n",
    "    return 2 * np.arcsin(\n",
    "        np.sqrt(\n",
    "            np.sin(deltaDec / 2) ** 2\n",
    "            + np.cos(dec2) * np.cos(dec1) * np.sin(deltaRa / 2) ** 2))"
   ]
  },
  {
   "cell_type": "markdown",
   "metadata": {},
   "source": [
    "Load HiTS2015 CI data from a ap_verify run."
   ]
  },
  {
   "cell_type": "code",
   "execution_count": 400,
   "metadata": {},
   "outputs": [],
   "source": [
    "b = Butler(\"/project/morriscb/src/ap_verify_ci_hits2015/testData/output\")"
   ]
  },
  {
   "cell_type": "code",
   "execution_count": 401,
   "metadata": {},
   "outputs": [],
   "source": [
    "diffIm = b.get(\"deepDiff_differenceExp\", visit=419802, ccdnum=10)\n",
    "diaSrc = b.get(\"deepDiff_diaSrc\", visit=419802, ccdnum=10)"
   ]
  },
  {
   "cell_type": "code",
   "execution_count": 404,
   "metadata": {},
   "outputs": [],
   "source": [
    "calibDiffIm = diffIm.getPhotoCalib().calibrateImage(diffIm.getMaskedImage())"
   ]
  },
  {
   "cell_type": "code",
   "execution_count": 403,
   "metadata": {},
   "outputs": [
    {
     "data": {
      "text/plain": [
       "False"
      ]
     },
     "execution_count": 403,
     "metadata": {},
     "output_type": "execute_result"
    }
   ],
   "source": [
    "np.all(np.isnan(ans.getArrays()[0]))"
   ]
  },
  {
   "cell_type": "markdown",
   "metadata": {},
   "source": [
    "Get a cutout from the difference image."
   ]
  },
  {
   "cell_type": "code",
   "execution_count": 28,
   "metadata": {},
   "outputs": [],
   "source": [
    "cutout = diffIm.getCutout(diaSrc[0].getCoord(), geom.Extent2I(30, 30))"
   ]
  },
  {
   "cell_type": "markdown",
   "metadata": {},
   "source": [
    "Create an empty astropy WCS."
   ]
  },
  {
   "cell_type": "code",
   "execution_count": 741,
   "metadata": {},
   "outputs": [],
   "source": [
    "cutoutWcs = wcs.WCS(naxis=2)"
   ]
  },
  {
   "cell_type": "markdown",
   "metadata": {},
   "source": [
    "Using the local CDMatrix, create a astropy WCS centered at Ra=180 and Dec=0 on the sphere and at the centroid of the object on the CCD. The cutOutMinX, cutOutMinY are the so that the WCS displays properly within the cutout in DS9."
   ]
  },
  {
   "cell_type": "code",
   "execution_count": 762,
   "metadata": {},
   "outputs": [],
   "source": [
    "offset = 0\n",
    "pixOffset = 1\n",
    "cutOutMinX = (cutout.getBBox().minX - 1)\n",
    "cutOutMinY = (cutout.getBBox().minY - 1)"
   ]
  },
  {
   "cell_type": "code",
   "execution_count": 763,
   "metadata": {},
   "outputs": [],
   "source": [
    "cutoutWcs.array_shape = (cutout.getBBox().getWidth(), cutout.getBBox().getWidth())\n",
    "cutoutWcs.wcs.crpix = [diaSrc[0].getCentroid()[0] - cutOutMinX,\n",
    "                       diaSrc[0].getCentroid()[1] - cutOutMinY]\n",
    "cutoutWcs.wcs.crval = [diaSrc[0].getRa().asDegrees(), diaSrc[0].getDec().asDegrees() + offset]\n",
    "cutoutWcs.wcs.ctype = [\"RA---TAN\", \"DEC--TAN\"]\n",
    "cdMatrix = np.degrees(np.array([[diaSrc[0][\"base_LocalWcs_CDMatrix_1_1\"], diaSrc[0][\"base_LocalWcs_CDMatrix_1_2\"]],\n",
    "                                [diaSrc[0][\"base_LocalWcs_CDMatrix_2_1\"], diaSrc[0][\"base_LocalWcs_CDMatrix_2_2\"]]]))\n",
    "cutoutWcs.wcs.cd = cdMatrix"
   ]
  },
  {
   "cell_type": "code",
   "execution_count": 764,
   "metadata": {},
   "outputs": [
    {
     "data": {
      "text/plain": [
       "(30, 30)"
      ]
     },
     "execution_count": 764,
     "metadata": {},
     "output_type": "execute_result"
    }
   ],
   "source": [
    "cutoutWcs.array_shape"
   ]
  },
  {
   "cell_type": "markdown",
   "metadata": {},
   "source": [
    "Create a test point 1 pixel away in x and y and compare to."
   ]
  },
  {
   "cell_type": "code",
   "execution_count": 765,
   "metadata": {},
   "outputs": [
    {
     "name": "stdout",
     "output_type": "stream",
     "text": [
      "979.0936279296875 71.04425811767578\n",
      "stack LocalWcs: [ 7.30649567e-05 -7.30157686e-05]\n",
      "dist: 0.3718608382769982\n"
     ]
    }
   ],
   "source": [
    "pixCent = np.array([[diaSrc[0].getCentroid()[0] - cutOutMinX + pixOffset,\n",
    "                     diaSrc[0].getCentroid()[1] - cutOutMinY + pixOffset]])\n",
    "print(diaSrc[0].getCentroid()[0], diaSrc[0].getCentroid()[1])\n",
    "deltaCent = (pixOffset, pixOffset)\n",
    "print(\"stack LocalWcs:\", np.dot(cdMatrix, deltaCent))\n",
    "coordRad = np.radians(np.dot(cdMatrix, deltaCent))\n",
    "print(\"dist:\", 3600 * np.degrees(computeSkySeperation(coordRad[0], coordRad[1], 0, 0)))"
   ]
  },
  {
   "cell_type": "code",
   "execution_count": 766,
   "metadata": {},
   "outputs": [
    {
     "name": "stdout",
     "output_type": "stream",
     "text": [
      "astropy Wcs: [154.97480413  -5.93919559] [154.97480413  -5.93919559]\n"
     ]
    },
    {
     "data": {
      "text/plain": [
       "0.3718608383434003"
      ]
     },
     "execution_count": 766,
     "metadata": {},
     "output_type": "execute_result"
    }
   ],
   "source": [
    "astropyCoord = cutoutWcs.wcs_pix2world(pixCent, 1)[0]\n",
    "print(\"astropy Wcs:\",\n",
    "      cutoutWcs.wcs_pix2world(pixCent, 1)[0],\n",
    "      cutoutWcs.wcs_pix2world([[diaSrc[0].getCentroid()[0] - cutOutMinX,\n",
    "                                diaSrc[0].getCentroid()[1] - cutOutMinY]], 0)[0])\n",
    "3600 * np.degrees(computeSkySeperation(np.radians(astropyCoord[0]), np.radians(astropyCoord[1]),\n",
    "                                       diaSrc[0].getRa().asRadians(),\n",
    "                                       diaSrc[0].getDec().asRadians() - np.radians(offset)))"
   ]
  },
  {
   "cell_type": "code",
   "execution_count": 767,
   "metadata": {},
   "outputs": [
    {
     "name": "stdout",
     "output_type": "stream",
     "text": [
      "154.97480412582692 -5.939195586146784\n"
     ]
    },
    {
     "data": {
      "text/plain": [
       "0.3718609588644356"
      ]
     },
     "execution_count": 767,
     "metadata": {},
     "output_type": "execute_result"
    }
   ],
   "source": [
    "print(diffIm.getWcs().pixelToSky(diaSrc[0].getCentroid()[0] + pixOffset,\n",
    "                                 diaSrc[0].getCentroid()[1] + pixOffset).getRa().asDegrees(),\n",
    "      diffIm.getWcs().pixelToSky(diaSrc[0].getCentroid()[0] + pixOffset,\n",
    "                                 diaSrc[0].getCentroid()[1] + pixOffset).getDec().asDegrees())\n",
    "diffIm.getWcs().pixelToSky(diaSrc[0].getCentroid()[0] + pixOffset,\n",
    "                           diaSrc[0].getCentroid()[1] + pixOffset).separation(\n",
    "    diffIm.getWcs().pixelToSky(diaSrc[0].getCentroid())).asArcseconds()"
   ]
  },
  {
   "cell_type": "markdown",
   "metadata": {},
   "source": [
    "Looks good for a large number of digits. Units are in degrees.\n",
    "\n",
    "Create a new CCDData object in astropy by stripping out the data from teh cutout."
   ]
  },
  {
   "cell_type": "code",
   "execution_count": 768,
   "metadata": {},
   "outputs": [
    {
     "data": {
      "text/plain": [
       "(4.173074330537929e-09, -3.853215524429743e-09)"
      ]
     },
     "execution_count": 768,
     "metadata": {},
     "output_type": "execute_result"
    }
   ],
   "source": [
    "154.97480413 - 154.97480412582692, -5.93919559 - -5.939195586146784"
   ]
  },
  {
   "cell_type": "code",
   "execution_count": 769,
   "metadata": {},
   "outputs": [],
   "source": [
    "calibDiffIm = diffIm.getPhotoCalib().calibrateImage(cutout.getMaskedImage())\n",
    "allArrays = calibDiffIm.getArrays()\n",
    "ccdData = CCDData(data=calibDiffIm.getImage().array,\n",
    "                  uncertainty=VarianceUncertainty(calibDiffIm.getVariance().array),\n",
    "                  flags=calibDiffIm.getMask().array,\n",
    "                  wcs=cutoutWcs,\n",
    "                  meta={\"cutMinX\": cutOutMinX,\n",
    "                        \"cutMinY\": cutOutMinY,},\n",
    "                  unit=u.nJy)"
   ]
  },
  {
   "cell_type": "code",
   "execution_count": 770,
   "metadata": {},
   "outputs": [],
   "source": [
    "ccdData.write(\"/project/morriscb/testCutout.fits\", overwrite=True)"
   ]
  },
  {
   "cell_type": "markdown",
   "metadata": {},
   "source": [
    "Questions above: Is that all we need for the ccdData cutout? Do we want to calibrate the image before creating the stamp? Does it make sense that the way I've created the WCS (i.e. projects onto the the equator at RA=180 with the center of the ccd image being at the true xy position)? With this structure, points the chip will be absolute while on the sky they will only be relative. I can easily also make the WCS center be xy=(0, 0) and all positions relative to the detected object center. I'm not sure what would be best to define the CPix. The WCS is and object center is not the center of one of the pixels pixtured. The draw back is that the image as it were has no info about what what the absolute position of a pixel is. [answered]"
   ]
  },
  {
   "cell_type": "code",
   "execution_count": 771,
   "metadata": {},
   "outputs": [
    {
     "data": {
      "text/plain": [
       "WCSAXES =                    2 / Number of coordinate axes                      \n",
       "CRPIX1  =      15.093627929688 / Pixel coordinate of reference point            \n",
       "CRPIX2  =      15.044258117676 / Pixel coordinate of reference point            \n",
       "PC1_1   = -9.2055734733204E-08 / Coordinate transformation matrix element       \n",
       "PC1_2   =  7.3157012447246E-05 / Coordinate transformation matrix element       \n",
       "PC2_1   = -7.2992717769792E-05 / Coordinate transformation matrix element       \n",
       "PC2_2   = -2.3050793857232E-08 / Coordinate transformation matrix element       \n",
       "CDELT1  =                  1.0 / [deg] Coordinate increment at reference point  \n",
       "CDELT2  =                  1.0 / [deg] Coordinate increment at reference point  \n",
       "CUNIT1  = 'deg'                / Units of coordinate increment and value        \n",
       "CUNIT2  = 'deg'                / Units of coordinate increment and value        \n",
       "CTYPE1  = 'RA---TAN'           / Right ascension, gnomonic projection           \n",
       "CTYPE2  = 'DEC--TAN'           / Declination, gnomonic projection               \n",
       "CRVAL1  =      154.97473066654 / [deg] Coordinate value at reference point      \n",
       "CRVAL2  =     -5.9391225703589 / [deg] Coordinate value at reference point      \n",
       "LONPOLE =                180.0 / [deg] Native longitude of celestial pole       \n",
       "LATPOLE =     -5.9391225703589 / [deg] Native latitude of celestial pole        \n",
       "DATEREF = '1858-11-17'         / ISO-8601 fiducial time                         \n",
       "MJDREFI =                  0.0 / [d] MJD of fiducial time, integer part         \n",
       "MJDREFF =                  0.0 / [d] MJD of fiducial time, fractional part      \n",
       "RADESYS = 'ICRS'               / Equatorial coordinate system                   "
      ]
     },
     "execution_count": 771,
     "metadata": {},
     "output_type": "execute_result"
    }
   ],
   "source": [
    "ccdData.wcs.to_header()"
   ]
  },
  {
   "cell_type": "code",
   "execution_count": null,
   "metadata": {},
   "outputs": [],
   "source": []
  }
 ],
 "metadata": {
  "kernelspec": {
   "display_name": "Python 3",
   "language": "python",
   "name": "python3"
  },
  "language_info": {
   "codemirror_mode": {
    "name": "ipython",
    "version": 3
   },
   "file_extension": ".py",
   "mimetype": "text/x-python",
   "name": "python",
   "nbconvert_exporter": "python",
   "pygments_lexer": "ipython3",
   "version": "3.7.6"
  }
 },
 "nbformat": 4,
 "nbformat_minor": 4
}
