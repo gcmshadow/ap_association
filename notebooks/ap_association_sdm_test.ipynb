{
 "cells": [
  {
   "cell_type": "markdown",
   "metadata": {},
   "source": [
    "Test ApAssociation SDM converter\n",
    "==================\n",
    "\n",
    "Currently, DRP is devloping a converter for tanslating their SciencePipelines output into a format that can be ingested the Qserv tables etc. This also includes producing calibrated columns and columns derived from sets of columns output by the SciencePipelines. This converter process is run as an afterburner in DRP.\n",
    "\n",
    "AP has slightly different needs as our pipelines interact directly with with an output database, the Ppdb, during processing to store DiaSources, DiaObjects, and DiaForcedSources. As such the SDM converter must run directly within our piplines. Below we test how this converter would work and compare it to the outputs of the current Pipelines->SDM/DPDD like converter that extists in ap_association."
   ]
  },
  {
   "cell_type": "code",
   "execution_count": 35,
   "metadata": {
    "collapsed": true
   },
   "outputs": [],
   "source": [
    "from lsst.daf.persistence import Butler\n",
    "import lsst.qa.explorer\n",
    "import lsst.qa.explorer.functors\n",
    "from importlib import reload\n",
    "\n",
    "import numpy as np"
   ]
  },
  {
   "cell_type": "code",
   "execution_count": 2,
   "metadata": {
    "collapsed": true
   },
   "outputs": [],
   "source": [
    "import lsst.ap.association as assoc"
   ]
  },
  {
   "cell_type": "markdown",
   "metadata": {},
   "source": [
    "Grab a repository with real pipeline outputs just so we know the columns output from the SciencePipelines are the correct ones."
   ]
  },
  {
   "cell_type": "code",
   "execution_count": 3,
   "metadata": {
    "collapsed": true
   },
   "outputs": [],
   "source": [
    "b = Butler(\"/project/mrawls/hits2015/rerun/comparewarp3\")"
   ]
  },
  {
   "cell_type": "markdown",
   "metadata": {},
   "source": [
    "Grab the needed data and calibration objects. "
   ]
  },
  {
   "cell_type": "code",
   "execution_count": 4,
   "metadata": {
    "collapsed": true
   },
   "outputs": [],
   "source": [
    "data = b.get(\"deepDiff_diaSrc\", visit=410915, ccdnum=25)\n",
    "diffIm = b.get(\"deepDiff_differenceExp\", visit=410915, ccdnum=25)\n",
    "calib = diffIm.getCalib()"
   ]
  },
  {
   "cell_type": "markdown",
   "metadata": {},
   "source": [
    "Create an instance of the current ap_association DPDDifier/DataMapper so we can compare outputs."
   ]
  },
  {
   "cell_type": "code",
   "execution_count": 5,
   "metadata": {
    "collapsed": true
   },
   "outputs": [],
   "source": [
    "dpddifier = assoc.MapDiaSourceTask(data.schema)\n",
    "dia_sources = dpddifier.run(data, b.get(\"deepDiff_differenceExp\", visit=410915, ccdnum=25))"
   ]
  },
  {
   "cell_type": "markdown",
   "metadata": {},
   "source": [
    "This is currently slightly akward given the current data required for the functors. This seems to work on the generic ParquetTable object but not for the MultiParquetTable in qa_explorer. If there is a better way of initializing the data to input to the functors, I'm happy to implimente it."
   ]
  },
  {
   "cell_type": "code",
   "execution_count": 7,
   "metadata": {
    "collapsed": true
   },
   "outputs": [],
   "source": [
    "diaSrcAstro = data.asAstropy().to_pandas()\n",
    "p = lsst.qa.explorer.parquetTable.ParquetTable(dataFrame=diaSrcAstro)"
   ]
  },
  {
   "cell_type": "markdown",
   "metadata": {},
   "source": [
    "Currently the yaml file does not attach calib objects to the functors. The loop below checks for all columns that use the NanoJansky(Err) functor to output and adds the calib object we retrieved from the Butler. Going forward, how (Photo)Calib objects get attached to functors/objects will have to be designed to work in a context that will wor for AP."
   ]
  },
  {
   "cell_type": "code",
   "execution_count": 9,
   "metadata": {
    "scrolled": false
   },
   "outputs": [],
   "source": [
    "funcs = lsst.qa.explorer.functors.CompositeFunctor.from_file(\n",
    "    '/home/morriscb/src/ap_association/data/diaSourceSDM.yaml')\n",
    "for name, func in funcs.funcDict.items():\n",
    "    if isinstance(func, lsst.qa.explorer.functors.NanoJansky):\n",
    "        funcs.funcDict[name] = lsst.qa.explorer.functors.NanoJansky(colFlux=func.col,\n",
    "                                                                    calib=calib)\n",
    "    elif isinstance(func, lsst.qa.explorer.functors.NanoJanskyErr):\n",
    "        funcs.funcDict[name] = lsst.qa.explorer.functors.NanoJanskyErr(colFlux=func.col, colFluxErr=func.colFluxErr,\n",
    "                                                                       calib=calib)"
   ]
  },
  {
   "cell_type": "markdown",
   "metadata": {},
   "source": [
    "Run functors."
   ]
  },
  {
   "cell_type": "code",
   "execution_count": 10,
   "metadata": {
    "collapsed": true,
    "scrolled": true
   },
   "outputs": [],
   "source": [
    "result = funcs(p, dropna=False)"
   ]
  },
  {
   "cell_type": "code",
   "execution_count": 16,
   "metadata": {},
   "outputs": [
    {
     "data": {
      "text/html": [
       "<div>\n",
       "<style scoped>\n",
       "    .dataframe tbody tr th:only-of-type {\n",
       "        vertical-align: middle;\n",
       "    }\n",
       "\n",
       "    .dataframe tbody tr th {\n",
       "        vertical-align: top;\n",
       "    }\n",
       "\n",
       "    .dataframe thead th {\n",
       "        text-align: right;\n",
       "    }\n",
       "</style>\n",
       "<table border=\"1\" class=\"dataframe\">\n",
       "  <thead>\n",
       "    <tr style=\"text-align: right;\">\n",
       "      <th></th>\n",
       "      <th>apFlux</th>\n",
       "      <th>apFluxErr</th>\n",
       "      <th>decl</th>\n",
       "      <th>diaSourceId</th>\n",
       "      <th>ixx</th>\n",
       "      <th>ixxErr</th>\n",
       "      <th>ixxPSF</th>\n",
       "      <th>ixy</th>\n",
       "      <th>ixyErr</th>\n",
       "      <th>ixyPSF</th>\n",
       "      <th>...</th>\n",
       "      <th>psFluxErr</th>\n",
       "      <th>ra</th>\n",
       "      <th>ra_decl_Cov</th>\n",
       "      <th>totFlux</th>\n",
       "      <th>totFluxErr</th>\n",
       "      <th>x</th>\n",
       "      <th>xErr</th>\n",
       "      <th>xy_flag</th>\n",
       "      <th>y</th>\n",
       "      <th>yErr</th>\n",
       "    </tr>\n",
       "  </thead>\n",
       "  <tbody>\n",
       "    <tr>\n",
       "      <th>203</th>\n",
       "      <td>-5044.223637</td>\n",
       "      <td>1083.310935</td>\n",
       "      <td>135.654800</td>\n",
       "      <td>176486756017766890</td>\n",
       "      <td>NaN</td>\n",
       "      <td>NaN</td>\n",
       "      <td>3.703597</td>\n",
       "      <td>NaN</td>\n",
       "      <td>NaN</td>\n",
       "      <td>-0.214281</td>\n",
       "      <td>...</td>\n",
       "      <td>429.210535</td>\n",
       "      <td>149.327927</td>\n",
       "      <td>135.654800</td>\n",
       "      <td>30366.928143</td>\n",
       "      <td>347.828400</td>\n",
       "      <td>40.162590</td>\n",
       "      <td>NaN</td>\n",
       "      <td>False</td>\n",
       "      <td>3983.228516</td>\n",
       "      <td>NaN</td>\n",
       "    </tr>\n",
       "    <tr>\n",
       "      <th>204</th>\n",
       "      <td>-1899.388991</td>\n",
       "      <td>953.415690</td>\n",
       "      <td>127.637929</td>\n",
       "      <td>176486756017766891</td>\n",
       "      <td>NaN</td>\n",
       "      <td>NaN</td>\n",
       "      <td>3.703597</td>\n",
       "      <td>NaN</td>\n",
       "      <td>NaN</td>\n",
       "      <td>-0.214281</td>\n",
       "      <td>...</td>\n",
       "      <td>364.668490</td>\n",
       "      <td>149.328873</td>\n",
       "      <td>127.637929</td>\n",
       "      <td>31471.320560</td>\n",
       "      <td>363.002102</td>\n",
       "      <td>1954.017700</td>\n",
       "      <td>NaN</td>\n",
       "      <td>False</td>\n",
       "      <td>3996.997070</td>\n",
       "      <td>NaN</td>\n",
       "    </tr>\n",
       "    <tr>\n",
       "      <th>205</th>\n",
       "      <td>1224.958308</td>\n",
       "      <td>911.906137</td>\n",
       "      <td>132.462778</td>\n",
       "      <td>176486756017766892</td>\n",
       "      <td>NaN</td>\n",
       "      <td>NaN</td>\n",
       "      <td>3.703597</td>\n",
       "      <td>NaN</td>\n",
       "      <td>NaN</td>\n",
       "      <td>-0.214281</td>\n",
       "      <td>...</td>\n",
       "      <td>761.024211</td>\n",
       "      <td>149.333176</td>\n",
       "      <td>132.462778</td>\n",
       "      <td>343930.034101</td>\n",
       "      <td>752.935025</td>\n",
       "      <td>802.140518</td>\n",
       "      <td>NaN</td>\n",
       "      <td>False</td>\n",
       "      <td>4055.666949</td>\n",
       "      <td>NaN</td>\n",
       "    </tr>\n",
       "    <tr>\n",
       "      <th>206</th>\n",
       "      <td>NaN</td>\n",
       "      <td>NaN</td>\n",
       "      <td>135.048271</td>\n",
       "      <td>176486756017766893</td>\n",
       "      <td>NaN</td>\n",
       "      <td>NaN</td>\n",
       "      <td>3.703597</td>\n",
       "      <td>NaN</td>\n",
       "      <td>NaN</td>\n",
       "      <td>-0.214281</td>\n",
       "      <td>...</td>\n",
       "      <td>NaN</td>\n",
       "      <td>149.334024</td>\n",
       "      <td>135.048271</td>\n",
       "      <td>31018.083144</td>\n",
       "      <td>264.403643</td>\n",
       "      <td>184.907928</td>\n",
       "      <td>NaN</td>\n",
       "      <td>False</td>\n",
       "      <td>4067.011230</td>\n",
       "      <td>NaN</td>\n",
       "    </tr>\n",
       "    <tr>\n",
       "      <th>207</th>\n",
       "      <td>NaN</td>\n",
       "      <td>NaN</td>\n",
       "      <td>135.240565</td>\n",
       "      <td>176486756017766894</td>\n",
       "      <td>6.679383</td>\n",
       "      <td>NaN</td>\n",
       "      <td>3.703597</td>\n",
       "      <td>-2.077791</td>\n",
       "      <td>NaN</td>\n",
       "      <td>-0.214281</td>\n",
       "      <td>...</td>\n",
       "      <td>NaN</td>\n",
       "      <td>149.334106</td>\n",
       "      <td>135.240565</td>\n",
       "      <td>31079.834317</td>\n",
       "      <td>309.028408</td>\n",
       "      <td>139.031311</td>\n",
       "      <td>NaN</td>\n",
       "      <td>False</td>\n",
       "      <td>4068.093506</td>\n",
       "      <td>NaN</td>\n",
       "    </tr>\n",
       "  </tbody>\n",
       "</table>\n",
       "<p>5 rows × 24 columns</p>\n",
       "</div>"
      ],
      "text/plain": [
       "          apFlux    apFluxErr        decl         diaSourceId       ixx  \\\n",
       "203 -5044.223637  1083.310935  135.654800  176486756017766890       NaN   \n",
       "204 -1899.388991   953.415690  127.637929  176486756017766891       NaN   \n",
       "205  1224.958308   911.906137  132.462778  176486756017766892       NaN   \n",
       "206          NaN          NaN  135.048271  176486756017766893       NaN   \n",
       "207          NaN          NaN  135.240565  176486756017766894  6.679383   \n",
       "\n",
       "     ixxErr    ixxPSF       ixy  ixyErr    ixyPSF  ...    psFluxErr  \\\n",
       "203     NaN  3.703597       NaN     NaN -0.214281  ...   429.210535   \n",
       "204     NaN  3.703597       NaN     NaN -0.214281  ...   364.668490   \n",
       "205     NaN  3.703597       NaN     NaN -0.214281  ...   761.024211   \n",
       "206     NaN  3.703597       NaN     NaN -0.214281  ...          NaN   \n",
       "207     NaN  3.703597 -2.077791     NaN -0.214281  ...          NaN   \n",
       "\n",
       "             ra  ra_decl_Cov        totFlux  totFluxErr            x  xErr  \\\n",
       "203  149.327927   135.654800   30366.928143  347.828400    40.162590   NaN   \n",
       "204  149.328873   127.637929   31471.320560  363.002102  1954.017700   NaN   \n",
       "205  149.333176   132.462778  343930.034101  752.935025   802.140518   NaN   \n",
       "206  149.334024   135.048271   31018.083144  264.403643   184.907928   NaN   \n",
       "207  149.334106   135.240565   31079.834317  309.028408   139.031311   NaN   \n",
       "\n",
       "     xy_flag            y  yErr  \n",
       "203    False  3983.228516   NaN  \n",
       "204    False  3996.997070   NaN  \n",
       "205    False  4055.666949   NaN  \n",
       "206    False  4067.011230   NaN  \n",
       "207    False  4068.093506   NaN  \n",
       "\n",
       "[5 rows x 24 columns]"
      ]
     },
     "execution_count": 16,
     "metadata": {},
     "output_type": "execute_result"
    }
   ],
   "source": [
    "result.tail()"
   ]
  },
  {
   "cell_type": "markdown",
   "metadata": {},
   "source": [
    "Test that the computed fluxes match up between the two different DPDDifiers/SDM converters."
   ]
  },
  {
   "cell_type": "code",
   "execution_count": 32,
   "metadata": {},
   "outputs": [
    {
     "name": "stdout",
     "output_type": "stream",
     "text": [
      "[1.0913936421275139e-11, -5.9117155615240335e-12, 7.916241884231567e-09, 5.6843418860808015e-12, -1.3642420526593924e-12, -2.4556356947869062e-11, -1.8189894035458565e-11, -7.275957614183426e-12, -1.000444171950221e-11, nan, -6.821210263296962e-12, 1.7053025658242404e-12, 5.229594535194337e-12, 6.821210263296962e-12, 5.4569682106375694e-12, 9.778887033462524e-09, 7.916241884231567e-09, 8.640199666842818e-12, 7.73070496506989e-12, 5.002220859751105e-12, 7.73070496506989e-12, 2.8421709430404007e-13, -7.389644451905042e-13, 1.000444171950221e-11, nan, 6.366462912410498e-12, 5.002220859751105e-12, -5.6843418860808015e-12, 2.7284841053187847e-12, nan, nan, 6.366462912410498e-12, -5.9117155615240335e-12, -8.185452315956354e-12, -4.092726157978177e-12, -7.73070496506989e-12, -5.4569682106375694e-12, nan, 1.210719347000122e-08, -6.366462912410498e-12, -6.366462912410498e-12, nan, -5.400124791776761e-13, nan, 1.210719347000122e-08, 5.6843418860808015e-12, 2.9558577807620168e-12, 5.4569682106375694e-12, nan, 5.229594535194337e-12, 5.4569682106375694e-12, 6.821210263296962e-12, 9.313225746154785e-09, -2.8421709430404007e-13, 1.3073986337985843e-12, nan, -4.547473508864641e-12, -5.4569682106375694e-12, nan, 5.229594535194337e-12, nan, 1.0913936421275139e-11, 7.275957614183426e-12, 1.4779288903810084e-12, 5.6843418860808015e-12, -5.4569682106375694e-12, 5.6843418860808015e-12, nan, -5.229594535194337e-12, 1.9326762412674725e-12, 6.366462912410498e-12, -4.263256414560601e-13, 5.4569682106375694e-12, 5.6843418860808015e-12, 5.229594535194337e-12, nan, 6.821210263296962e-12, 6.366462912410498e-12, 3.4924596548080444e-09, -1.0658141036401503e-13, 5.4569682106375694e-12, 5.229594535194337e-12, -1.4210854715202004e-12, -5.4569682106375694e-12, 1.3642420526593924e-11, 5.093170329928398e-11, 5.002220859751105e-12, nan, 5.229594535194337e-12, 4.547473508864641e-12, 6.366462912410498e-12, 5.229594535194337e-12, -4.547473508864641e-12, 7.73070496506989e-12, nan, -5.4569682106375694e-12, nan, -6.821210263296962e-12, nan, 3.259629011154175e-09, -8.185452315956354e-12, -5.002220859751105e-12, -6.366462912410498e-12, -6.821210263296962e-12, nan, -6.821210263296962e-12, -5.4569682106375694e-12, -6.139089236967266e-12, -6.821210263296962e-12, 5.9117155615240335e-12, 3.183231456205249e-12, -5.229594535194337e-12, 1.6370904631912708e-11, -8.640199666842818e-12, -2.091837814077735e-11, -6.366462912410498e-12, -6.366462912410498e-12, nan, -5.229594535194337e-12, -2.0463630789890885e-12, -1.4551915228366852e-11, -9.094947017729282e-12, nan, -6.366462912410498e-12, -6.366462912410498e-12, -6.821210263296962e-12, 9.549694368615746e-12, 5.229594535194337e-12, 7.73070496506989e-12, -5.6843418860808015e-12, -7.73070496506989e-12, -6.821210263296962e-12, nan, 6.366462912410498e-12, -1.1368683772161603e-11, 8.185452315956354e-12, nan, 9.094947017729282e-12, 5.6843418860808015e-12, 7.450580596923828e-09, 6.984919309616089e-09, 6.139089236967266e-12, 5.4569682106375694e-12, 7.275957614183426e-12, 1.0459189070388675e-11, 6.366462912410498e-12, 7.73070496506989e-12, -1.0913936421275139e-11, -5.229594535194337e-12, 3.637978807091713e-12, 3.410605131648481e-12, 7.275957614183426e-12, 1.0913936421275139e-11, 5.4569682106375694e-12, -4.774847184307873e-12, 8.640199666842818e-12, 6.912159733474255e-11, 9.549694368615746e-12, 6.821210263296962e-12, 6.139089236967266e-12, 1.8189894035458565e-12, -1.2789769243681803e-13, -3.410605131648481e-12, 5.9117155615240335e-12, 8.847564458847046e-09, 8.847564458847046e-09, nan, nan, -5.6843418860808015e-12, 7.73070496506989e-12, 1.1641532182693481e-09, 5.9117155615240335e-12, -5.9117155615240335e-12, 9.549694368615746e-12, nan, -7.73070496506989e-12, -1.6007106751203537e-10, -1.5916157281026244e-12, 8.185452315956354e-12, 6.366462912410498e-12, nan, 5.9117155615240335e-12, -5.9117155615240335e-12, 5.4569682106375694e-12, nan, 5.9117155615240335e-12, 6.821210263296962e-12, 5.6843418860808015e-12, -6.366462912410498e-12, 5.9117155615240335e-12, -6.366462912410498e-12, 6.366462912410498e-12, -5.229594535194337e-12, -5.6843418860808015e-12, -1.7280399333685637e-11, -6.366462912410498e-12, nan, -5.4569682106375694e-12, 1.1641532182693481e-09, 5.4569682106375694e-12, 7.275957614183426e-12, -6.366462912410498e-12, nan, -6.821210263296962e-12, -6.139089236967266e-12, 5.229594535194337e-12, nan, nan]\n"
     ]
    }
   ],
   "source": [
    "print((result['psFlux'].values - dia_sources['psFlux']).tolist())"
   ]
  },
  {
   "cell_type": "code",
   "execution_count": 33,
   "metadata": {},
   "outputs": [
    {
     "name": "stdout",
     "output_type": "stream",
     "text": [
      "[1.2505552149377763e-12, 1.1368683772161603e-12, 5.9117155615240335e-12, 1.1368683772161603e-12, 1.0231815394945443e-12, 1.1368683772161603e-12, 8.526512829121202e-13, 8.526512829121202e-13, 1.2505552149377763e-12, nan, 8.526512829121202e-13, 1.8189894035458565e-12, 9.663381206337363e-13, 9.663381206337363e-13, 9.663381206337363e-13, 7.275957614183426e-12, 6.821210263296962e-12, 1.0231815394945443e-12, 1.0800249583553523e-12, 9.663381206337363e-13, 1.0231815394945443e-12, 8.526512829121202e-13, 1.2505552149377763e-12, 1.1937117960769683e-12, nan, 1.0231815394945443e-12, 1.0231815394945443e-12, 1.0231815394945443e-12, 9.663381206337363e-13, nan, nan, 9.663381206337363e-13, 9.663381206337363e-13, 1.0231815394945443e-12, 7.958078640513122e-13, 9.663381206337363e-13, 1.1368683772161603e-12, nan, 7.73070496506989e-12, 1.0800249583553523e-12, 1.0231815394945443e-12, nan, 1.1368683772161603e-12, nan, 8.640199666842818e-12, 9.663381206337363e-13, 1.0800249583553523e-12, 1.0800249583553523e-12, nan, 1.0800249583553523e-12, 1.0800249583553523e-12, 9.663381206337363e-13, 7.73070496506989e-12, 9.663381206337363e-13, 1.4779288903810084e-12, nan, 9.663381206337363e-13, 1.0231815394945443e-12, nan, 1.0231815394945443e-12, nan, 1.0231815394945443e-12, 1.0800249583553523e-12, 1.4210854715202004e-12, 1.1368683772161603e-12, 1.0800249583553523e-12, 9.094947017729282e-13, nan, 1.0800249583553523e-12, 1.0231815394945443e-12, 1.0800249583553523e-12, 9.663381206337363e-13, 1.0231815394945443e-12, 1.0231815394945443e-12, 9.663381206337363e-13, nan, 1.1368683772161603e-12, 1.0800249583553523e-12, 5.4569682106375694e-12, 1.0231815394945443e-12, 9.663381206337363e-13, 1.0231815394945443e-12, 2.0463630789890885e-12, 9.663381206337363e-13, 9.094947017729282e-13, 4.547473508864641e-12, 1.0800249583553523e-12, nan, 9.663381206337363e-13, 8.526512829121202e-13, 1.0800249583553523e-12, 9.094947017729282e-13, 7.958078640513122e-13, 1.0800249583553523e-12, nan, 1.0800249583553523e-12, nan, 1.0231815394945443e-12, nan, 5.229594535194337e-12, 1.1368683772161603e-12, 1.0800249583553523e-12, 1.1368683772161603e-12, 1.3073986337985843e-12, nan, 1.1368683772161603e-12, 1.0231815394945443e-12, 1.0231815394945443e-12, 1.0231815394945443e-12, 1.8189894035458565e-12, 1.7053025658242404e-12, 1.0231815394945443e-12, 8.526512829121202e-13, 1.0231815394945443e-12, 3.069544618483633e-12, 9.663381206337363e-13, 1.0231815394945443e-12, nan, 1.1368683772161603e-12, 1.0800249583553523e-12, 2.9558577807620168e-12, 1.1937117960769683e-12, nan, 1.0231815394945443e-12, 1.0231815394945443e-12, 1.0800249583553523e-12, 3.183231456205249e-12, 1.1368683772161603e-12, 2.8421709430404007e-12, 1.0800249583553523e-12, 1.1368683772161603e-12, 1.1937117960769683e-12, nan, 9.663381206337363e-13, 1.5916157281026244e-12, 1.0231815394945443e-12, nan, 1.1368683772161603e-12, 1.0231815394945443e-12, 7.275957614183426e-12, 5.6843418860808015e-12, 1.1368683772161603e-12, 1.1368683772161603e-12, 1.1368683772161603e-12, 1.3642420526593924e-12, 1.0800249583553523e-12, 1.0800249583553523e-12, 2.3874235921539366e-12, 7.958078640513122e-13, 1.1368683772161603e-12, 1.0231815394945443e-12, 1.0231815394945443e-12, 1.0800249583553523e-12, 9.663381206337363e-13, 8.526512829121202e-13, 1.0800249583553523e-12, 3.410605131648481e-12, 1.0800249583553523e-12, 2.1600499167107046e-12, 1.0800249583553523e-12, 4.320099833421409e-12, 7.958078640513122e-13, 3.183231456205249e-12, 1.0800249583553523e-12, 6.366462912410498e-12, 7.275957614183426e-12, nan, nan, 1.1368683772161603e-12, 1.1937117960769683e-12, 4.774847184307873e-12, 1.0800249583553523e-12, 1.0231815394945443e-12, 3.865352482534945e-12, nan, 1.1937117960769683e-12, 7.958078640513122e-13, 1.0800249583553523e-12, 8.526512829121202e-13, 1.1937117960769683e-12, nan, 1.0800249583553523e-12, 1.0800249583553523e-12, 1.1368683772161603e-12, nan, 1.1368683772161603e-12, 1.1368683772161603e-12, 1.0231815394945443e-12, 1.0800249583553523e-12, 1.0231815394945443e-12, 1.0231815394945443e-12, 1.1368683772161603e-12, 1.1368683772161603e-12, 1.0800249583553523e-12, 2.2737367544323206e-12, 9.663381206337363e-13, nan, 1.0231815394945443e-12, 4.547473508864641e-12, 9.663381206337363e-13, 1.1368683772161603e-12, 1.1368683772161603e-12, nan, 1.3642420526593924e-12, 1.1937117960769683e-12, 2.2737367544323206e-12, nan, nan]\n"
     ]
    }
   ],
   "source": [
    "print((result['psFluxErr'].values - dia_sources['psFluxErr']).tolist())"
   ]
  },
  {
   "cell_type": "markdown",
   "metadata": {},
   "source": [
    "Looks like everything is within e-12 in value but just to make sure."
   ]
  },
  {
   "cell_type": "code",
   "execution_count": 38,
   "metadata": {},
   "outputs": [],
   "source": [
    "for v1, v2 in zip(result['psFlux'], dia_sources['psFlux']):\n",
    "    diff = np.fabs(v1 - v2)\n",
    "    if np.isnan(diff) and not (np.isnan(v1) and np.isnan(v2)):\n",
    "        print(\"Both values are not nan\")\n",
    "    elif not np.isnan(diff) and diff > 1e12:\n",
    "        print(\"Difference greater than e-12\")\n",
    "        \n",
    "for v1, v2 in zip(result['psFluxErr'], dia_sources['psFluxErr']):\n",
    "    diff = np.fabs(v1 - v2)\n",
    "    if np.isnan(diff) and not (np.isnan(v1) and np.isnan(v2)):\n",
    "        print(\"Both values are not nan\")\n",
    "    elif not np.isnan(diff) and diff > 1e12:\n",
    "        print(\"Difference greater than e-12\")"
   ]
  },
  {
   "cell_type": "markdown",
   "metadata": {},
   "source": [
    "No print statements made so it looks like everything is working within a very small variance."
   ]
  },
  {
   "cell_type": "code",
   "execution_count": null,
   "metadata": {
    "collapsed": true
   },
   "outputs": [],
   "source": []
  }
 ],
 "metadata": {
  "kernelspec": {
   "display_name": "Python 3",
   "language": "python",
   "name": "python3"
  },
  "language_info": {
   "codemirror_mode": {
    "name": "ipython",
    "version": 3
   },
   "file_extension": ".py",
   "mimetype": "text/x-python",
   "name": "python",
   "nbconvert_exporter": "python",
   "pygments_lexer": "ipython3",
   "version": "3.6.6"
  }
 },
 "nbformat": 4,
 "nbformat_minor": 2
}
